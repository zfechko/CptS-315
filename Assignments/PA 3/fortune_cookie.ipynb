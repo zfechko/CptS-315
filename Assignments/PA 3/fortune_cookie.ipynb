{
 "cells": [
  {
   "cell_type": "markdown",
   "metadata": {},
   "source": [
    "# PA 3\n",
    "# Zach Fechko\n",
    "# CptS 315"
   ]
  },
  {
   "cell_type": "markdown",
   "metadata": {},
   "source": [
    "## Part 1: Fortune Cookie Binary Classifier"
   ]
  },
  {
   "cell_type": "markdown",
   "metadata": {},
   "source": [
    "importing libraries"
   ]
  },
  {
   "cell_type": "code",
   "execution_count": 17,
   "metadata": {},
   "outputs": [],
   "source": [
    "from sklearn.linear_model import Perceptron\n",
    "import numpy as np"
   ]
  },
  {
   "cell_type": "markdown",
   "metadata": {},
   "source": [
    "creating constant variables filled with data from files"
   ]
  },
  {
   "cell_type": "code",
   "execution_count": 18,
   "metadata": {},
   "outputs": [],
   "source": [
    "TRAIN_DATA = np.array([])\n",
    "TRAIN_LABELS = np.array([], dtype=np.int64)\n",
    "TEST_DATA = np.array([])\n",
    "TEST_LABELS = np.array([], dtype=np.int64)\n",
    "STOP_LIST = set() #making this a set to ensure no duplicates\n",
    "\n",
    "with open('fortune_cookie_data/traindata.txt') as file:\n",
    "    for line in file:\n",
    "        #append line to TRAIN_DATA removing '\\n'\n",
    "        TRAIN_DATA = np.append(TRAIN_DATA, line[:-1])\n",
    "        \n",
    "with open('fortune_cookie_data/trainlabels.txt') as file:\n",
    "    for line in file:\n",
    "        #append line to TRAIN_LABELS as int and removing '\\n'\n",
    "        TRAIN_LABELS = np.append(TRAIN_LABELS, int(line))\n",
    "\n",
    "with open('fortune_cookie_data/testdata.txt') as file:\n",
    "    for line in file:\n",
    "        #append line to TEST_DATA removing '\\n'\n",
    "        TEST_DATA = np.append(TEST_DATA, line[:-1])\n",
    "\n",
    "with open('fortune_cookie_data/testlabels.txt') as file:\n",
    "    for line in file:\n",
    "        #append line to TEST_LABELS as int and removing '\\n'\n",
    "        TEST_LABELS = np.append(TEST_LABELS, int(line))\n",
    "\n",
    "with open('fortune_cookie_data/stoplist.txt') as file:\n",
    "    for line in file:\n",
    "        #add line to STOP_LIST removing '\\n'\n",
    "        STOP_LIST.add(line[:-1])\n"
   ]
  },
  {
   "cell_type": "markdown",
   "metadata": {},
   "source": [
    "creating vocabulary"
   ]
  },
  {
   "cell_type": "code",
   "execution_count": 19,
   "metadata": {},
   "outputs": [
    {
     "data": {
      "text/plain": [
       "694"
      ]
     },
     "execution_count": 19,
     "metadata": {},
     "output_type": "execute_result"
    }
   ],
   "source": [
    "vocab = []\n",
    "for message in TRAIN_DATA:\n",
    "    for word in message.split():\n",
    "        if word not in STOP_LIST and word not in vocab: #only appending unique words that aren't in the stop list\n",
    "            vocab.append(word)\n",
    "vocab.sort()\n",
    "len(vocab)"
   ]
  },
  {
   "cell_type": "code",
   "execution_count": 20,
   "metadata": {},
   "outputs": [],
   "source": [
    "# convert training data into a set of feature vectors\n",
    "num_messages = len(TRAIN_DATA)\n",
    "num_words = len(vocab)\n",
    "\n",
    "# create feature vectors\n",
    "feature_vectors = np.zeros((num_messages, num_words))\n",
    "for i in range(num_messages):\n",
    "    for word in TRAIN_DATA[i].split():\n",
    "        if word in vocab:\n",
    "            feature_vectors[i, vocab.index(word)] += 1\n",
    "\n",
    "# changing train and test labels from 0 to -1\n",
    "TRAIN_LABELS[TRAIN_LABELS == 0] = -1\n",
    "\n"
   ]
  },
  {
   "cell_type": "code",
   "execution_count": 27,
   "metadata": {},
   "outputs": [
    {
     "name": "stdout",
     "output_type": "stream",
     "text": [
      "TRAINING DATA\n",
      "Iteration:  0  Number of mistakes:  135\n",
      "Iteration:  0  Accuracy:  58.07 %\n",
      "Iteration:  1  Number of mistakes:  52\n",
      "Iteration:  1  Accuracy:  83.85 %\n",
      "Iteration:  2  Number of mistakes:  30\n",
      "Iteration:  2  Accuracy:  90.68 %\n",
      "Iteration:  3  Number of mistakes:  14\n",
      "Iteration:  3  Accuracy:  95.65 %\n",
      "Iteration:  4  Number of mistakes:  9\n",
      "Iteration:  4  Accuracy:  97.2 %\n",
      "Iteration:  5  Number of mistakes:  4\n",
      "Iteration:  5  Accuracy:  98.76 %\n",
      "Iteration:  6  Number of mistakes:  4\n",
      "Iteration:  6  Accuracy:  98.76 %\n",
      "Iteration:  7  Number of mistakes:  5\n",
      "Iteration:  7  Accuracy:  98.45 %\n",
      "Iteration:  8  Number of mistakes:  2\n",
      "Iteration:  8  Accuracy:  99.38 %\n",
      "Iteration:  9  Number of mistakes:  2\n",
      "Iteration:  9  Accuracy:  99.38 %\n",
      "Iteration:  10  Number of mistakes:  2\n",
      "Iteration:  10  Accuracy:  99.38 %\n",
      "Iteration:  11  Number of mistakes:  2\n",
      "Iteration:  11  Accuracy:  99.38 %\n",
      "Iteration:  12  Number of mistakes:  2\n",
      "Iteration:  12  Accuracy:  99.38 %\n",
      "Iteration:  13  Number of mistakes:  2\n",
      "Iteration:  13  Accuracy:  99.38 %\n",
      "Iteration:  14  Number of mistakes:  2\n",
      "Iteration:  14  Accuracy:  99.38 %\n",
      "Iteration:  15  Number of mistakes:  2\n",
      "Iteration:  15  Accuracy:  99.38 %\n",
      "Iteration:  16  Number of mistakes:  2\n",
      "Iteration:  16  Accuracy:  99.38 %\n",
      "Iteration:  17  Number of mistakes:  2\n",
      "Iteration:  17  Accuracy:  99.38 %\n",
      "Iteration:  18  Number of mistakes:  2\n",
      "Iteration:  18  Accuracy:  99.38 %\n",
      "Iteration:  19  Number of mistakes:  2\n",
      "Iteration:  19  Accuracy:  99.38 %\n",
      "Iteration:  20  Number of mistakes:  2\n",
      "Iteration:  20  Accuracy:  99.38 %\n"
     ]
    }
   ],
   "source": [
    "# implement binary classifier with perceptron weight update\n",
    "# use learning rate of 1\n",
    "\n",
    "# initialize weights to 0\n",
    "weights = np.zeros(num_words)\n",
    "\n",
    "print(\"TRAINING DATA\")\n",
    "\n",
    "# for each training iteration\n",
    "for i in range(21):\n",
    "    num_mistakes = 0\n",
    "    accuracy = 0\n",
    "    # for each training example \n",
    "    for j in range(num_messages):\n",
    "        xt = feature_vectors[j]\n",
    "        yt = int(TRAIN_LABELS[j])\n",
    "        yht = np.sign(np.dot(weights, xt))\n",
    "        if yht != yt: #if there's a mistake\n",
    "            num_mistakes += 1\n",
    "            #w = w + eta dot yt dot xt\n",
    "            weights = weights + 1 * yt * xt\n",
    "    # calculate accuracy\n",
    "    print(\"Iteration: \", i, \" Number of mistakes: \", num_mistakes)\n",
    "    accuracy = (len(TRAIN_DATA) - num_mistakes) / len(TRAIN_DATA)\n",
    "    print(\"Iteration: \", i, \" Accuracy: \", round(accuracy * 100, 2), \"%\")"
   ]
  },
  {
   "cell_type": "code",
   "execution_count": 22,
   "metadata": {},
   "outputs": [
    {
     "name": "stdout",
     "output_type": "stream",
     "text": [
      "Perceptron accuracy:  99.38 %\n"
     ]
    }
   ],
   "source": [
    "#checking algorithm against numpy perceptron\n",
    "practice = Perceptron(max_iter=20)\n",
    "practice.fit(feature_vectors, TRAIN_LABELS)\n",
    "print(\"Perceptron accuracy: \", round(practice.score(feature_vectors, TRAIN_LABELS) * 100, 2), \"%\")"
   ]
  },
  {
   "cell_type": "code",
   "execution_count": null,
   "metadata": {},
   "outputs": [],
   "source": []
  }
 ],
 "metadata": {
  "kernelspec": {
   "display_name": "Python 3.8.12 ('base')",
   "language": "python",
   "name": "python3"
  },
  "language_info": {
   "codemirror_mode": {
    "name": "ipython",
    "version": 3
   },
   "file_extension": ".py",
   "mimetype": "text/x-python",
   "name": "python",
   "nbconvert_exporter": "python",
   "pygments_lexer": "ipython3",
   "version": "3.8.12"
  },
  "orig_nbformat": 4,
  "vscode": {
   "interpreter": {
    "hash": "d8e9220ce8a3fa7e2ede426537a02920558b5a3a04901a912ed3e8a06d0fccb5"
   }
  }
 },
 "nbformat": 4,
 "nbformat_minor": 2
}
