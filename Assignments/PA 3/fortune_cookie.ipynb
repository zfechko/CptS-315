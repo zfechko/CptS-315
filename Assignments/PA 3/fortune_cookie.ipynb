{
 "cells": [
  {
   "cell_type": "markdown",
   "metadata": {},
   "source": [
    "# PA 3 Fortune Cookie Classifer\n",
    "# Zach Fechko\n",
    "# CptS 315"
   ]
  },
  {
   "cell_type": "markdown",
   "metadata": {},
   "source": [
    "importing libraries"
   ]
  },
  {
   "cell_type": "code",
   "execution_count": 2,
   "metadata": {},
   "outputs": [],
   "source": [
    "from sklearn.linear_model import Perceptron\n",
    "import numpy as np"
   ]
  },
  {
   "cell_type": "markdown",
   "metadata": {},
   "source": [
    "creating constant variables filled with data from files"
   ]
  },
  {
   "cell_type": "code",
   "execution_count": 3,
   "metadata": {},
   "outputs": [],
   "source": [
    "TRAIN_DATA = np.array([])\n",
    "TRAIN_LABELS = np.array([], dtype=np.int64)\n",
    "TEST_DATA = np.array([])\n",
    "TEST_LABELS = np.array([], dtype=np.int64)\n",
    "STOP_LIST = set() #making this a set to ensure no duplicates\n",
    "\n",
    "with open('fortune_cookie_data/traindata.txt') as file:\n",
    "    for line in file:\n",
    "        #append line to TRAIN_DATA removing '\\n'\n",
    "        TRAIN_DATA = np.append(TRAIN_DATA, line[:-1])\n",
    "        \n",
    "with open('fortune_cookie_data/trainlabels.txt') as file:\n",
    "    for line in file:\n",
    "        #append line to TRAIN_LABELS as int and removing '\\n'\n",
    "        TRAIN_LABELS = np.append(TRAIN_LABELS, int(line))\n",
    "\n",
    "with open('fortune_cookie_data/testdata.txt') as file:\n",
    "    for line in file:\n",
    "        #append line to TEST_DATA removing '\\n'\n",
    "        TEST_DATA = np.append(TEST_DATA, line[:-1])\n",
    "\n",
    "with open('fortune_cookie_data/testlabels.txt') as file:\n",
    "    for line in file:\n",
    "        #append line to TEST_LABELS as int and removing '\\n'\n",
    "        TEST_LABELS = np.append(TEST_LABELS, int(line))\n",
    "\n",
    "with open('fortune_cookie_data/stoplist.txt') as file:\n",
    "    for line in file:\n",
    "        #add line to STOP_LIST removing '\\n'\n",
    "        STOP_LIST.add(line[:-1])\n"
   ]
  },
  {
   "cell_type": "markdown",
   "metadata": {},
   "source": [
    "creating vocabulary"
   ]
  },
  {
   "cell_type": "code",
   "execution_count": 4,
   "metadata": {},
   "outputs": [
    {
     "data": {
      "text/plain": [
       "694"
      ]
     },
     "execution_count": 4,
     "metadata": {},
     "output_type": "execute_result"
    }
   ],
   "source": [
    "vocab = []\n",
    "for message in TRAIN_DATA:\n",
    "    for word in message.split():\n",
    "        if word not in STOP_LIST and word not in vocab: #only appending unique words that aren't in the stop list\n",
    "            vocab.append(word)\n",
    "vocab.sort()\n",
    "len(vocab)"
   ]
  },
  {
   "cell_type": "code",
   "execution_count": 5,
   "metadata": {},
   "outputs": [
    {
     "data": {
      "text/plain": [
       "array([[0., 0., 0., ..., 0., 0., 0.],\n",
       "       [0., 0., 0., ..., 0., 0., 0.],\n",
       "       [0., 0., 0., ..., 0., 0., 0.],\n",
       "       ...,\n",
       "       [0., 0., 0., ..., 1., 0., 0.],\n",
       "       [0., 0., 0., ..., 0., 0., 0.],\n",
       "       [0., 0., 0., ..., 0., 0., 0.]])"
      ]
     },
     "execution_count": 5,
     "metadata": {},
     "output_type": "execute_result"
    }
   ],
   "source": [
    "# convert training data into a set of feature vectors\n",
    "num_messages = len(TRAIN_DATA)\n",
    "num_words = len(vocab)\n",
    "\n",
    "# create feature vectors\n",
    "feature_vectors = np.zeros((num_messages, num_words))\n",
    "for i in range(num_messages):\n",
    "    for word in TRAIN_DATA[i].split():\n",
    "        if word in vocab:\n",
    "            feature_vectors[i, vocab.index(word)] += 1\n",
    "\n",
    "feature_vectors[:10]"
   ]
  },
  {
   "cell_type": "code",
   "execution_count": null,
   "metadata": {},
   "outputs": [],
   "source": []
  }
 ],
 "metadata": {
  "kernelspec": {
   "display_name": "Python 3.8.12 ('base')",
   "language": "python",
   "name": "python3"
  },
  "language_info": {
   "codemirror_mode": {
    "name": "ipython",
    "version": 3
   },
   "file_extension": ".py",
   "mimetype": "text/x-python",
   "name": "python",
   "nbconvert_exporter": "python",
   "pygments_lexer": "ipython3",
   "version": "3.8.12"
  },
  "orig_nbformat": 4,
  "vscode": {
   "interpreter": {
    "hash": "d8e9220ce8a3fa7e2ede426537a02920558b5a3a04901a912ed3e8a06d0fccb5"
   }
  }
 },
 "nbformat": 4,
 "nbformat_minor": 2
}
