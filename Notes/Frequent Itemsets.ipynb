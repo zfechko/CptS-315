{
 "cells": [
  {
   "cell_type": "markdown",
   "metadata": {},
   "source": [
    "# Mining of Massive Datasets\n",
    "\n",
    "## Frequent Itemsets\n",
    "- The Market Basket Model\n",
    "- Association Rules\n",
    "- A Priori Algorithm"
   ]
  },
  {
   "cell_type": "markdown",
   "metadata": {},
   "source": [
    "## The Market-Basket Model\n",
    "- A large set of *<mark>items</mark>*, e.g. things sold in a supermarket\n",
    "- A large set of *<mark>baskets</mark>*, each of which is a small set of the items, e.g. the things one customer buys on one day.\n",
    "\n",
    "### Support\n",
    "- Simplest question: find sets of items that appear \"frequently\" in the baskets\n",
    "- *<mark>Support</mark>* for itemset *I* = the number of baskets containing all items in *I*\n",
    "    - Sometimes given as a percentage\n",
    "- Given a *<mark>support threshold</mark> s* sets of items that appear in at least *s* baskets are called <mark>*frequent itemsets*</mark>\n",
    "\n",
    "### Example\n",
    "- Items = {milk, coke, pepsi, beer, juice}\n",
    "- Support = 3 baskets\n",
    "    - $B_1$ = {milk, coke, beer}\n",
    "    - $B_2$ = {milk, pepsi, juice}\n",
    "    - $B_3$ = {milk, beer}\n",
    "    - $B_4$ = {coke, juice}\n",
    "    - $B_5$ = {milk, pepsi, beer}\n",
    "    - $B_6$ = {milk, coke, beer, juice}\n",
    "    - $B_7$ = {coke, beer, juice}\n",
    "    - $B_8$ = {beer, coke}\n",
    "- Frequent itemsets: {milk} (5 baskets), {coke} (4 baskets), {beer} (6 baskets), {juice} (4 baskets), {milk, beer} (4 baskets), {beer, coke} (4 baskets), {coke, juice} (3 baskets)\n",
    "\n",
    "### Applications\n",
    "- <font style='color:orange'>Items</font> = products; <font style='color:orange'>baskets</font> = set of products someone bought in one trip to the store\n",
    "- <font style='color:green'>Example application:</font> Given that many people buy beer and diapers together:\n",
    "    - Run a sale on diapers; raise the price of beer.\n",
    "- Only useful if many buy diapers & beer\n",
    "    - Essential for brick and mortar stores, not online stores <br>\n",
    "<br>\n",
    "- <font style='color:orange'>baskets</font> = sentences; <font style='color:orange'>items</font> = documents containing those sentences\n",
    "- items that appear together too often could represent plagiarism\n",
    "- Notice items do not have to be \"in\" baskets\n",
    "    - But it is better if baskets have small numbers of items, while items can be in large numbers of baskets\n",
    "<br><br>\n",
    "- <font style='color:orange'>baskets</font> = documents; <font style='color:orange'>items</font> = words.\n",
    "- Unusual words appearing together in a large number of documents, e.g. \"Brad\" and \"Angelina\" may indicate an interesting relationship.\n",
    "\n",
    "### Scale of the Problem\n",
    "- Walmart sells 100,000 items and can store billions of baskets\n",
    "- The internet has billions of words and many billions of pages\n"
   ]
  },
  {
   "cell_type": "markdown",
   "metadata": {},
   "source": [
    "## Association Rules\n",
    "- If-then rules about the contents  of baskets\n",
    "- <font style='color:lime'>{ $i_{1}, i_{2}, ..., i_{k}$ } $\\rightarrow j$ </font> means: \"if a basket contains all of $i_{1}, ..., i_{k}$ , then it is <font style='color:orange'>*likely*</font> to contain $j$"
   ]
  }
 ],
 "metadata": {
  "language_info": {
   "name": "python"
  },
  "orig_nbformat": 4
 },
 "nbformat": 4,
 "nbformat_minor": 2
}
